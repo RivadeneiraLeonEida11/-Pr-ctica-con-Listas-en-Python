{
  "nbformat": 4,
  "nbformat_minor": 0,
  "metadata": {
    "colab": {
      "provenance": [],
      "authorship_tag": "ABX9TyMfwof3So2uJBECrLAyZLCT",
      "include_colab_link": true
    },
    "kernelspec": {
      "name": "python3",
      "display_name": "Python 3"
    },
    "language_info": {
      "name": "python"
    }
  },
  "cells": [
    {
      "cell_type": "markdown",
      "metadata": {
        "id": "view-in-github",
        "colab_type": "text"
      },
      "source": [
        "<a href=\"https://colab.research.google.com/github/RivadeneiraLeonEida11/-Pr-ctica-con-Listas-en-Python/blob/main/List_in_python.ipynb\" target=\"_parent\"><img src=\"https://colab.research.google.com/assets/colab-badge.svg\" alt=\"Open In Colab\"/></a>"
      ]
    },
    {
      "cell_type": "code",
      "execution_count": null,
      "metadata": {
        "id": "oDsIVzsUoTWu"
      },
      "outputs": [],
      "source": [
        "friends = ['Eida', 'Liz', 'Karla', 'Daniela', 'Edu']"
      ]
    },
    {
      "cell_type": "code",
      "source": [
        "print(friends)"
      ],
      "metadata": {
        "colab": {
          "base_uri": "https://localhost:8080/"
        },
        "id": "Z5eZr-Evolrz",
        "outputId": "840b82bf-78b0-4dea-e01f-3da0de4eea29"
      },
      "execution_count": null,
      "outputs": [
        {
          "output_type": "stream",
          "name": "stdout",
          "text": [
            "['Eida', 'Liz', 'Karla', 'Daniela', 'Edu']\n"
          ]
        }
      ]
    },
    {
      "cell_type": "code",
      "source": [
        "mensaje = f\"Este es mi mejor amigo {friends[0].title()}.\"\n",
        "print(mensaje)\n",
        "mensaje = f\"Este es mi mejor amigo {friends[1].title()}.\"\n",
        "print(mensaje)\n",
        "mensaje = f\"Esta es mi mejor amiga {friends[2].title()}.\"\n",
        "print(mensaje)\n",
        "mensaje = f\"Esta es mi mejor amiga {friends[3].title()}.\"\n",
        "print(mensaje)\n",
        "mensaje = f\"Este es mi mejor amigo {friends[4].title()}.\"\n",
        "print(mensaje)"
      ],
      "metadata": {
        "colab": {
          "base_uri": "https://localhost:8080/"
        },
        "id": "khXDXWyKosoa",
        "outputId": "44bbadab-529f-4c31-9c32-4b2899bdf344"
      },
      "execution_count": null,
      "outputs": [
        {
          "output_type": "stream",
          "name": "stdout",
          "text": [
            "Este es mi mejor amigo Eida.\n",
            "Este es mi mejor amigo Liz.\n",
            "Esta es mi mejor amiga Karla.\n",
            "Esta es mi mejor amiga Daniela.\n",
            "Este es mi mejor amigo Edu.\n"
          ]
        }
      ]
    },
    {
      "cell_type": "code",
      "source": [
        "vehicle = ['carro', 'bus', 'taxi', 'moto', 'bicicleta']\n",
        "mensaje1 = f\"Me gusta andar en {vehicle[4].title()}.\"\n",
        "print(mensaje1)"
      ],
      "metadata": {
        "colab": {
          "base_uri": "https://localhost:8080/"
        },
        "id": "cH36PROqpEBr",
        "outputId": "fedbee72-6d9b-4bec-cf0a-f2d767ca20e8"
      },
      "execution_count": null,
      "outputs": [
        {
          "output_type": "stream",
          "name": "stdout",
          "text": [
            "Me gusta andar en  Bicicleta.\n"
          ]
        }
      ]
    },
    {
      "cell_type": "code",
      "source": [
        "mensaje2 = f\"A mi amigo {friends[4]}, le gusta ir en {vehicle[4]} a la Universidad. \"\n",
        "print(mensaje2)"
      ],
      "metadata": {
        "colab": {
          "base_uri": "https://localhost:8080/"
        },
        "id": "d9QESXejpe4S",
        "outputId": "7357874b-21df-4fc1-9e1c-bc5e0e1927d0"
      },
      "execution_count": null,
      "outputs": [
        {
          "output_type": "stream",
          "name": "stdout",
          "text": [
            "A mi amigo Edu, le gusta ir en bicicleta a la Universidad. \n"
          ]
        }
      ]
    },
    {
      "cell_type": "markdown",
      "source": [
        "***Segunda Actividad***"
      ],
      "metadata": {
        "id": "WnddBolMtcUl"
      }
    },
    {
      "cell_type": "code",
      "source": [
        "invited = ['Eida', 'Liz', 'Karla', 'Daniela', 'Edu']\n",
        "print(invited)\n",
        "mensaje = f\"Estas Invitado  a mi cena {invited[0].title()}.\"\n",
        "print(mensaje)\n",
        "mensaje = f\"Estas Invitado  a mi cena {friends[1].title()}.\"\n",
        "print(mensaje)\n",
        "mensaje = f\"Estas Invitado  a mi cena {friends[2].title()}.\"\n",
        "print(mensaje)\n",
        "mensaje = f\"Estas Invitado  a mi cena {friends[3].title()}.\"\n",
        "print(mensaje)\n",
        "mensaje = f\"Estas Invitado  a mi cena {friends[4].title()}.\"\n",
        "print(mensaje)"
      ],
      "metadata": {
        "colab": {
          "base_uri": "https://localhost:8080/"
        },
        "id": "7TgcVA2JtfYU",
        "outputId": "c403f281-aff4-44b4-fa08-caa910373770"
      },
      "execution_count": 127,
      "outputs": [
        {
          "output_type": "stream",
          "name": "stdout",
          "text": [
            "['Eida', 'Liz', 'Karla', 'Daniela', 'Edu']\n",
            "Estas Invitado  a mi cena Eida.\n",
            "Estas Invitado  a mi cena Liz.\n",
            "Estas Invitado  a mi cena Karla.\n",
            "Estas Invitado  a mi cena Daniela.\n",
            "Estas Invitado  a mi cena Edu.\n"
          ]
        }
      ]
    },
    {
      "cell_type": "code",
      "source": [
        "print(f\"No sera invitada {invited[1]}\")\n",
        "print(invited)\n"
      ],
      "metadata": {
        "colab": {
          "base_uri": "https://localhost:8080/"
        },
        "id": "RuOArz6GtysV",
        "outputId": "96bfba7b-9ef1-44e1-924e-3843169153df"
      },
      "execution_count": 128,
      "outputs": [
        {
          "output_type": "stream",
          "name": "stdout",
          "text": [
            "No sera invitada Liz\n",
            "['Eida', 'Liz', 'Karla', 'Daniela', 'Edu']\n"
          ]
        }
      ]
    },
    {
      "cell_type": "code",
      "source": [
        "del invited[1]\n",
        "print(invited)"
      ],
      "metadata": {
        "colab": {
          "base_uri": "https://localhost:8080/"
        },
        "id": "CjcVfjUqu7ku",
        "outputId": "633d60ef-bfc5-4f5b-b1cd-a3a8df3f3bba"
      },
      "execution_count": 129,
      "outputs": [
        {
          "output_type": "stream",
          "name": "stdout",
          "text": [
            "['Eida', 'Karla', 'Daniela', 'Edu']\n"
          ]
        }
      ]
    },
    {
      "cell_type": "code",
      "source": [
        "invited.insert(2,\"Amada\")\n",
        "print(invited)\n",
        "print(f\"Nuevo Invitado: {invited[2]}\")"
      ],
      "metadata": {
        "colab": {
          "base_uri": "https://localhost:8080/"
        },
        "id": "DQB2nLzPu90l",
        "outputId": "9c9cbe6b-2227-437a-94f8-a6e7688308be"
      },
      "execution_count": 130,
      "outputs": [
        {
          "output_type": "stream",
          "name": "stdout",
          "text": [
            "['Eida', 'Karla', 'Amada', 'Daniela', 'Edu']\n",
            "Nuevo Invitado: Amada\n"
          ]
        }
      ]
    },
    {
      "cell_type": "code",
      "source": [
        "invited.insert(0,\"Yessica\")\n",
        "print(invited)\n",
        "print(f\"Nuevo Invitado: {invited[0]}\")"
      ],
      "metadata": {
        "colab": {
          "base_uri": "https://localhost:8080/"
        },
        "id": "KVy3z53evKr1",
        "outputId": "ed89fe4d-5263-437e-e83b-03dbda6875c0"
      },
      "execution_count": 131,
      "outputs": [
        {
          "output_type": "stream",
          "name": "stdout",
          "text": [
            "['Yessica', 'Eida', 'Karla', 'Amada', 'Daniela', 'Edu']\n",
            "Nuevo Invitado: Yessica\n"
          ]
        }
      ]
    },
    {
      "cell_type": "code",
      "source": [
        "invited.insert(6,\"Sixter\")\n",
        "print(invited)\n",
        "print(f\"Nuevo Invitado: {invited[6]}\")"
      ],
      "metadata": {
        "colab": {
          "base_uri": "https://localhost:8080/"
        },
        "id": "cW-RLLsyvOf1",
        "outputId": "ab0a4ae6-86bf-4b47-cf5a-d9f70ef1c0a9"
      },
      "execution_count": 132,
      "outputs": [
        {
          "output_type": "stream",
          "name": "stdout",
          "text": [
            "['Yessica', 'Eida', 'Karla', 'Amada', 'Daniela', 'Edu', 'Sixter']\n",
            "Nuevo Invitado: Sixter\n"
          ]
        }
      ]
    },
    {
      "cell_type": "code",
      "source": [
        "print(\"Solo sera invitada a Dos Personas, lista de invitados anterior: \")\n",
        "print(invited)"
      ],
      "metadata": {
        "colab": {
          "base_uri": "https://localhost:8080/"
        },
        "id": "W44FH59mvda-",
        "outputId": "a144f237-2460-424c-c083-1b82eeea5931"
      },
      "execution_count": 133,
      "outputs": [
        {
          "output_type": "stream",
          "name": "stdout",
          "text": [
            "Solo sera invitada a Dos Personas, lista de invitados anterior: \n",
            "['Yessica', 'Eida', 'Karla', 'Amada', 'Daniela', 'Edu', 'Sixter']\n"
          ]
        }
      ]
    },
    {
      "cell_type": "code",
      "source": [
        "print(\"Nueva Lista de Invitados: \")\n",
        "eliminate_invited = invited.pop(0)\n",
        "print(invited)"
      ],
      "metadata": {
        "colab": {
          "base_uri": "https://localhost:8080/"
        },
        "id": "daVpQMxav5ov",
        "outputId": "9de2e4c0-c846-45b7-d1ee-05ecd16a0311"
      },
      "execution_count": 138,
      "outputs": [
        {
          "output_type": "stream",
          "name": "stdout",
          "text": [
            "Nueva Lista de Invitados: \n",
            "['Edu', 'Sixter']\n"
          ]
        }
      ]
    }
  ]
}