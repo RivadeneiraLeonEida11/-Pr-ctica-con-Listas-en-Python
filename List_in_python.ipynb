{
  "nbformat": 4,
  "nbformat_minor": 0,
  "metadata": {
    "colab": {
      "provenance": [],
      "authorship_tag": "ABX9TyOQPpsZzD+FoBFw0/NllV4Q",
      "include_colab_link": true
    },
    "kernelspec": {
      "name": "python3",
      "display_name": "Python 3"
    },
    "language_info": {
      "name": "python"
    }
  },
  "cells": [
    {
      "cell_type": "markdown",
      "metadata": {
        "id": "view-in-github",
        "colab_type": "text"
      },
      "source": [
        "<a href=\"https://colab.research.google.com/github/RivadeneiraLeonEida11/-Pr-ctica-con-Listas-en-Python/blob/main/List_in_python.ipynb\" target=\"_parent\"><img src=\"https://colab.research.google.com/assets/colab-badge.svg\" alt=\"Open In Colab\"/></a>"
      ]
    },
    {
      "cell_type": "code",
      "execution_count": null,
      "metadata": {
        "id": "oDsIVzsUoTWu"
      },
      "outputs": [],
      "source": [
        "friends = ['Eida', 'Liz', 'Karla', 'Daniela', 'Edu']"
      ]
    },
    {
      "cell_type": "code",
      "source": [
        "print(friends)"
      ],
      "metadata": {
        "colab": {
          "base_uri": "https://localhost:8080/"
        },
        "id": "Z5eZr-Evolrz",
        "outputId": "840b82bf-78b0-4dea-e01f-3da0de4eea29"
      },
      "execution_count": null,
      "outputs": [
        {
          "output_type": "stream",
          "name": "stdout",
          "text": [
            "['Eida', 'Liz', 'Karla', 'Daniela', 'Edu']\n"
          ]
        }
      ]
    },
    {
      "cell_type": "code",
      "source": [
        "mensaje = f\"Este es mi mejor amigo {friends[0].title()}.\"\n",
        "print(mensaje)\n",
        "mensaje = f\"Este es mi mejor amigo {friends[1].title()}.\"\n",
        "print(mensaje)\n",
        "mensaje = f\"Esta es mi mejor amiga {friends[2].title()}.\"\n",
        "print(mensaje)\n",
        "mensaje = f\"Esta es mi mejor amiga {friends[3].title()}.\"\n",
        "print(mensaje)\n",
        "mensaje = f\"Este es mi mejor amigo {friends[4].title()}.\"\n",
        "print(mensaje)"
      ],
      "metadata": {
        "colab": {
          "base_uri": "https://localhost:8080/"
        },
        "id": "khXDXWyKosoa",
        "outputId": "44bbadab-529f-4c31-9c32-4b2899bdf344"
      },
      "execution_count": null,
      "outputs": [
        {
          "output_type": "stream",
          "name": "stdout",
          "text": [
            "Este es mi mejor amigo Eida.\n",
            "Este es mi mejor amigo Liz.\n",
            "Esta es mi mejor amiga Karla.\n",
            "Esta es mi mejor amiga Daniela.\n",
            "Este es mi mejor amigo Edu.\n"
          ]
        }
      ]
    },
    {
      "cell_type": "code",
      "source": [
        "vehicle = ['carro', 'bus', 'taxi', 'moto', 'bicicleta']\n",
        "mensaje1 = f\"Me gusta andar en {vehicle[4].title()}.\"\n",
        "print(mensaje1)"
      ],
      "metadata": {
        "colab": {
          "base_uri": "https://localhost:8080/"
        },
        "id": "cH36PROqpEBr",
        "outputId": "fedbee72-6d9b-4bec-cf0a-f2d767ca20e8"
      },
      "execution_count": null,
      "outputs": [
        {
          "output_type": "stream",
          "name": "stdout",
          "text": [
            "Me gusta andar en  Bicicleta.\n"
          ]
        }
      ]
    },
    {
      "cell_type": "code",
      "source": [
        "mensaje2 = f\"A mi amigo {friends[4]}, le gusta ir en {vehicle[4]} a la Universidad. \"\n",
        "print(mensaje2)"
      ],
      "metadata": {
        "colab": {
          "base_uri": "https://localhost:8080/"
        },
        "id": "d9QESXejpe4S",
        "outputId": "7357874b-21df-4fc1-9e1c-bc5e0e1927d0"
      },
      "execution_count": null,
      "outputs": [
        {
          "output_type": "stream",
          "name": "stdout",
          "text": [
            "A mi amigo Edu, le gusta ir en bicicleta a la Universidad. \n"
          ]
        }
      ]
    },
    {
      "cell_type": "markdown",
      "source": [
        "***Segunda Actividad***"
      ],
      "metadata": {
        "id": "WnddBolMtcUl"
      }
    },
    {
      "cell_type": "code",
      "source": [
        "invited = ['Eida', 'Liz', 'Karla', 'Daniela', 'Edu']\n",
        "print(invited)\n",
        "mensaje = f\"Estas Invitado  a mi cena {invited[0].title()}.\"\n",
        "print(mensaje)\n",
        "mensaje = f\"Estas Invitado  a mi cena {friends[1].title()}.\"\n",
        "print(mensaje)\n",
        "mensaje = f\"Estas Invitado  a mi cena {friends[2].title()}.\"\n",
        "print(mensaje)\n",
        "mensaje = f\"Estas Invitado  a mi cena {friends[3].title()}.\"\n",
        "print(mensaje)\n",
        "mensaje = f\"Estas Invitado  a mi cena {friends[4].title()}.\"\n",
        "print(mensaje)"
      ],
      "metadata": {
        "colab": {
          "base_uri": "https://localhost:8080/"
        },
        "id": "7TgcVA2JtfYU",
        "outputId": "c403f281-aff4-44b4-fa08-caa910373770"
      },
      "execution_count": 127,
      "outputs": [
        {
          "output_type": "stream",
          "name": "stdout",
          "text": [
            "['Eida', 'Liz', 'Karla', 'Daniela', 'Edu']\n",
            "Estas Invitado  a mi cena Eida.\n",
            "Estas Invitado  a mi cena Liz.\n",
            "Estas Invitado  a mi cena Karla.\n",
            "Estas Invitado  a mi cena Daniela.\n",
            "Estas Invitado  a mi cena Edu.\n"
          ]
        }
      ]
    },
    {
      "cell_type": "code",
      "source": [
        "print(f\"No sera invitada {invited[1]}\")\n",
        "print(invited)\n"
      ],
      "metadata": {
        "colab": {
          "base_uri": "https://localhost:8080/"
        },
        "id": "RuOArz6GtysV",
        "outputId": "96bfba7b-9ef1-44e1-924e-3843169153df"
      },
      "execution_count": 128,
      "outputs": [
        {
          "output_type": "stream",
          "name": "stdout",
          "text": [
            "No sera invitada Liz\n",
            "['Eida', 'Liz', 'Karla', 'Daniela', 'Edu']\n"
          ]
        }
      ]
    },
    {
      "cell_type": "code",
      "source": [
        "del invited[1]\n",
        "print(invited)"
      ],
      "metadata": {
        "colab": {
          "base_uri": "https://localhost:8080/"
        },
        "id": "CjcVfjUqu7ku",
        "outputId": "633d60ef-bfc5-4f5b-b1cd-a3a8df3f3bba"
      },
      "execution_count": 129,
      "outputs": [
        {
          "output_type": "stream",
          "name": "stdout",
          "text": [
            "['Eida', 'Karla', 'Daniela', 'Edu']\n"
          ]
        }
      ]
    },
    {
      "cell_type": "code",
      "source": [
        "invited.insert(2,\"Amada\")\n",
        "print(invited)\n",
        "print(f\"Nuevo Invitado: {invited[2]}\")"
      ],
      "metadata": {
        "colab": {
          "base_uri": "https://localhost:8080/"
        },
        "id": "DQB2nLzPu90l",
        "outputId": "9c9cbe6b-2227-437a-94f8-a6e7688308be"
      },
      "execution_count": 130,
      "outputs": [
        {
          "output_type": "stream",
          "name": "stdout",
          "text": [
            "['Eida', 'Karla', 'Amada', 'Daniela', 'Edu']\n",
            "Nuevo Invitado: Amada\n"
          ]
        }
      ]
    },
    {
      "cell_type": "code",
      "source": [
        "invited.insert(0,\"Yessica\")\n",
        "print(invited)\n",
        "print(f\"Nuevo Invitado: {invited[0]}\")"
      ],
      "metadata": {
        "colab": {
          "base_uri": "https://localhost:8080/"
        },
        "id": "KVy3z53evKr1",
        "outputId": "ed89fe4d-5263-437e-e83b-03dbda6875c0"
      },
      "execution_count": 131,
      "outputs": [
        {
          "output_type": "stream",
          "name": "stdout",
          "text": [
            "['Yessica', 'Eida', 'Karla', 'Amada', 'Daniela', 'Edu']\n",
            "Nuevo Invitado: Yessica\n"
          ]
        }
      ]
    },
    {
      "cell_type": "code",
      "source": [
        "invited.insert(6,\"Sixter\")\n",
        "print(invited)\n",
        "print(f\"Nuevo Invitado: {invited[6]}\")"
      ],
      "metadata": {
        "colab": {
          "base_uri": "https://localhost:8080/"
        },
        "id": "cW-RLLsyvOf1",
        "outputId": "ab0a4ae6-86bf-4b47-cf5a-d9f70ef1c0a9"
      },
      "execution_count": 132,
      "outputs": [
        {
          "output_type": "stream",
          "name": "stdout",
          "text": [
            "['Yessica', 'Eida', 'Karla', 'Amada', 'Daniela', 'Edu', 'Sixter']\n",
            "Nuevo Invitado: Sixter\n"
          ]
        }
      ]
    },
    {
      "cell_type": "code",
      "source": [
        "print(\"Solo sera invitada a Dos Personas, lista de invitados anterior: \")\n",
        "print(invited)"
      ],
      "metadata": {
        "colab": {
          "base_uri": "https://localhost:8080/"
        },
        "id": "W44FH59mvda-",
        "outputId": "a144f237-2460-424c-c083-1b82eeea5931"
      },
      "execution_count": 133,
      "outputs": [
        {
          "output_type": "stream",
          "name": "stdout",
          "text": [
            "Solo sera invitada a Dos Personas, lista de invitados anterior: \n",
            "['Yessica', 'Eida', 'Karla', 'Amada', 'Daniela', 'Edu', 'Sixter']\n"
          ]
        }
      ]
    },
    {
      "cell_type": "code",
      "source": [
        "print(\"Nueva Lista de Invitados: \")\n",
        "eliminate_invited = invited.pop(0)\n",
        "print(invited)"
      ],
      "metadata": {
        "colab": {
          "base_uri": "https://localhost:8080/"
        },
        "id": "daVpQMxav5ov",
        "outputId": "9de2e4c0-c846-45b7-d1ee-05ecd16a0311"
      },
      "execution_count": 138,
      "outputs": [
        {
          "output_type": "stream",
          "name": "stdout",
          "text": [
            "Nueva Lista de Invitados: \n",
            "['Edu', 'Sixter']\n"
          ]
        }
      ]
    },
    {
      "cell_type": "markdown",
      "source": [
        "Tercera ***Actividad***"
      ],
      "metadata": {
        "id": "2v6Kl0I51UnG"
      }
    },
    {
      "cell_type": "code",
      "source": [
        "world = ['España', 'Japon', 'Korea', 'Canada', 'Argentina']\n",
        "print(world)"
      ],
      "metadata": {
        "colab": {
          "base_uri": "https://localhost:8080/"
        },
        "id": "qzqv6P0z1Wz3",
        "outputId": "99a119a8-3486-4d20-9ade-c4f097cb6dca"
      },
      "execution_count": 139,
      "outputs": [
        {
          "output_type": "stream",
          "name": "stdout",
          "text": [
            "['España', 'Japon', 'Korea', 'Canada', 'Argentina']\n"
          ]
        }
      ]
    },
    {
      "cell_type": "code",
      "source": [
        "print(\"Lista Ordenada:\")\n",
        "print(sorted(world))"
      ],
      "metadata": {
        "colab": {
          "base_uri": "https://localhost:8080/"
        },
        "id": "aDe9NPrX1ZT2",
        "outputId": "2451f1db-162e-41b9-e90e-665a770a6212"
      },
      "execution_count": 140,
      "outputs": [
        {
          "output_type": "stream",
          "name": "stdout",
          "text": [
            "Lista Ordenada:\n",
            "['Argentina', 'Canada', 'España', 'Japon', 'Korea']\n"
          ]
        }
      ]
    },
    {
      "cell_type": "code",
      "source": [
        "print(world)\n",
        "world.reverse()\n",
        "print(world)"
      ],
      "metadata": {
        "colab": {
          "base_uri": "https://localhost:8080/"
        },
        "id": "gMGMLf8G17LY",
        "outputId": "15543d90-7c73-4552-ecb6-72ec83a30dd3"
      },
      "execution_count": 158,
      "outputs": [
        {
          "output_type": "stream",
          "name": "stdout",
          "text": [
            "['Argentina', 'Canada', 'Korea', 'Japon', 'España']\n",
            "['España', 'Japon', 'Korea', 'Canada', 'Argentina']\n"
          ]
        }
      ]
    },
    {
      "cell_type": "code",
      "source": [
        "world.sort()\n",
        "print(world)"
      ],
      "metadata": {
        "colab": {
          "base_uri": "https://localhost:8080/"
        },
        "id": "28vCyn3w2WWa",
        "outputId": "095307aa-b9d7-433d-b9a0-484be95ac0a9"
      },
      "execution_count": 161,
      "outputs": [
        {
          "output_type": "stream",
          "name": "stdout",
          "text": [
            "['Argentina', 'Canada', 'España', 'Japon', 'Korea']\n"
          ]
        }
      ]
    },
    {
      "cell_type": "code",
      "source": [
        "world.sort(reverse=True)\n",
        "print(world)"
      ],
      "metadata": {
        "colab": {
          "base_uri": "https://localhost:8080/"
        },
        "id": "dK17cMEb2zVK",
        "outputId": "3007b862-a39b-4e49-84bb-bb285501f005"
      },
      "execution_count": 163,
      "outputs": [
        {
          "output_type": "stream",
          "name": "stdout",
          "text": [
            "['Korea', 'Japon', 'España', 'Canada', 'Argentina']\n"
          ]
        }
      ]
    },
    {
      "cell_type": "code",
      "source": [
        "len(invited)"
      ],
      "metadata": {
        "colab": {
          "base_uri": "https://localhost:8080/"
        },
        "id": "6YFWgNOf2-hR",
        "outputId": "87acb17c-bc96-415c-f812-8aa3c9779950"
      },
      "execution_count": 164,
      "outputs": [
        {
          "output_type": "execute_result",
          "data": {
            "text/plain": [
              "2"
            ]
          },
          "metadata": {},
          "execution_count": 164
        }
      ]
    },
    {
      "cell_type": "markdown",
      "source": [
        "***TODO LO APRENDIDO***"
      ],
      "metadata": {
        "id": "Ho8sDGVb4re_"
      }
    },
    {
      "cell_type": "markdown",
      "source": [
        "Agregar elementos con Append"
      ],
      "metadata": {
        "id": "Na_1vLMP5I74"
      }
    },
    {
      "cell_type": "code",
      "source": [
        "languages = []\n",
        "languages.append(\"Español\")\n",
        "languages.append(\"Ingles\")\n",
        "print(languages)"
      ],
      "metadata": {
        "colab": {
          "base_uri": "https://localhost:8080/"
        },
        "id": "W3uRQpw63v2z",
        "outputId": "47bfaef2-b00a-4df5-fd1e-1b40427eca0c"
      },
      "execution_count": 177,
      "outputs": [
        {
          "output_type": "stream",
          "name": "stdout",
          "text": [
            "['Español', 'Ingles']\n"
          ]
        }
      ]
    },
    {
      "cell_type": "markdown",
      "source": [
        "agregar elementos con Instert"
      ],
      "metadata": {
        "id": "J16McrsF5LTA"
      }
    },
    {
      "cell_type": "code",
      "source": [
        "languages.insert(0,\"Japones\")\n",
        "languages.insert(3,\"Chino\")\n",
        "languages.insert(2,\"Frances\")\n",
        "print(languages)"
      ],
      "metadata": {
        "colab": {
          "base_uri": "https://localhost:8080/"
        },
        "id": "-vZPfmic4vV8",
        "outputId": "b4dfa2b8-59d5-4bed-b3bf-8f31448f62a9"
      },
      "execution_count": 178,
      "outputs": [
        {
          "output_type": "stream",
          "name": "stdout",
          "text": [
            "['Japones', 'Español', 'Frances', 'Ingles', 'Chino']\n"
          ]
        }
      ]
    },
    {
      "cell_type": "markdown",
      "source": [
        "Quitar elementos con del"
      ],
      "metadata": {
        "id": "CpgrLcSG5Nzm"
      }
    },
    {
      "cell_type": "code",
      "source": [
        "print(\"Se quitara el Idioma Frances de la Lista\")\n",
        "del languages[2]\n",
        "print (languages)"
      ],
      "metadata": {
        "colab": {
          "base_uri": "https://localhost:8080/"
        },
        "id": "g8f5mXFZ5ZuP",
        "outputId": "1b9cf322-5ae2-4466-8707-1c68582c0f9a"
      },
      "execution_count": 179,
      "outputs": [
        {
          "output_type": "stream",
          "name": "stdout",
          "text": [
            "Se quitara el Idioma Frances de la Lista\n",
            "['Japones', 'Español', 'Ingles', 'Chino']\n"
          ]
        }
      ]
    },
    {
      "cell_type": "markdown",
      "source": [
        "Quitar Elemento Con POP"
      ],
      "metadata": {
        "id": "wf7j-J1l6a0J"
      }
    },
    {
      "cell_type": "code",
      "source": [
        "Idioma_eliminado = languages.pop(1)\n",
        "print(\"Se eliminara el Idioma Español de la Lista\")\n",
        "print(Idioma_eliminado)\n",
        "print(languages)\n",
        "\n"
      ],
      "metadata": {
        "colab": {
          "base_uri": "https://localhost:8080/"
        },
        "id": "JXsyjitW5oUA",
        "outputId": "089011a1-49a0-4217-eee0-87316861041f"
      },
      "execution_count": 180,
      "outputs": [
        {
          "output_type": "stream",
          "name": "stdout",
          "text": [
            "Se eliminara el Idioma Español de la Lista\n",
            "Español\n",
            "['Japones', 'Ingles', 'Chino']\n"
          ]
        }
      ]
    },
    {
      "cell_type": "markdown",
      "source": [
        "Ordenar lista con sorded"
      ],
      "metadata": {
        "id": "xLVW6uXA6fxS"
      }
    },
    {
      "cell_type": "code",
      "source": [
        "print(\"Aquí está la lista de Idiomas original:\")\n",
        "print(languages)\n",
        "\n",
        "print(\"\\nAquí está la lista de Idiomas ordenada temporalmente:\")\n",
        "print(sorted(languages))\n",
        "\n",
        "print(\"\\nAquí está la lista de Idiomas original de nuevo:\")\n",
        "print(languages)"
      ],
      "metadata": {
        "colab": {
          "base_uri": "https://localhost:8080/"
        },
        "id": "DCPB5lCd6D4R",
        "outputId": "b022e065-1423-4767-9d6c-80683b93534b"
      },
      "execution_count": 183,
      "outputs": [
        {
          "output_type": "stream",
          "name": "stdout",
          "text": [
            "Aquí está la lista de Idiomas original:\n",
            "['Japones', 'Ingles', 'Chino']\n",
            "\n",
            "Aquí está la lista de Idiomas ordenada temporalmente:\n",
            "['Chino', 'Ingles', 'Japones']\n",
            "\n",
            "Aquí está la lista de Idiomas original de nuevo:\n",
            "['Japones', 'Ingles', 'Chino']\n"
          ]
        }
      ]
    },
    {
      "cell_type": "markdown",
      "source": [
        "Ordendar lista con sort"
      ],
      "metadata": {
        "id": "htAyuWWk6iWp"
      }
    },
    {
      "cell_type": "code",
      "source": [
        "languages.sort()\n",
        "print(languages)"
      ],
      "metadata": {
        "colab": {
          "base_uri": "https://localhost:8080/"
        },
        "id": "QxuiRtIx6T8B",
        "outputId": "218bbd71-1a37-4cce-d5f9-401c6fc32e83"
      },
      "execution_count": 184,
      "outputs": [
        {
          "output_type": "stream",
          "name": "stdout",
          "text": [
            "['Chino', 'Ingles', 'Japones']\n"
          ]
        }
      ]
    },
    {
      "cell_type": "markdown",
      "source": [
        "Los datos se invertirar su orden con reverse"
      ],
      "metadata": {
        "id": "LbxbOzB361zZ"
      }
    },
    {
      "cell_type": "code",
      "source": [
        "languages.sort(reverse=True)\n",
        "print(languages)"
      ],
      "metadata": {
        "colab": {
          "base_uri": "https://localhost:8080/"
        },
        "id": "X9k5HKp-6wGZ",
        "outputId": "d397fe67-007f-4b59-99f2-422fda6cd1b6"
      },
      "execution_count": 186,
      "outputs": [
        {
          "output_type": "stream",
          "name": "stdout",
          "text": [
            "['Japones', 'Ingles', 'Chino']\n"
          ]
        }
      ]
    },
    {
      "cell_type": "markdown",
      "source": [
        "Contamos los elemntos de una lista con len"
      ],
      "metadata": {
        "id": "I5jXdPPT6_H6"
      }
    },
    {
      "cell_type": "code",
      "source": [
        "len(languages)"
      ],
      "metadata": {
        "colab": {
          "base_uri": "https://localhost:8080/"
        },
        "id": "9AG8hA_e6zhh",
        "outputId": "340625e4-929f-4b41-a2b3-1dd2a00d73ae"
      },
      "execution_count": 187,
      "outputs": [
        {
          "output_type": "execute_result",
          "data": {
            "text/plain": [
              "3"
            ]
          },
          "metadata": {},
          "execution_count": 187
        }
      ]
    }
  ]
}